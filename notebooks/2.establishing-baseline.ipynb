{
 "cells": [
  {
   "cell_type": "markdown",
   "metadata": {},
   "source": [
    "<div style=\"padding: 30px 60px; border: 5px skyblue solid; border-radius: 30px; max-width: 600px; font-size: 2rem; line-height: 3rem; color: black; font-family: sans-serif;\">\n",
    "\n",
    "  <div style=\"font-size: 1.5rem; font-weight: 200;\">[CM3070] Final Project - BSc CS University of London</div>\n",
    "  <div style=\"font-size: 1.5rem; font-weight: 500;\">Deep Learning on Satellite Imagery</div>\n",
    "  <div style=\"font-size: 2rem; color: dodgerblue; font-weight: bold;\">by Arjun Bajaj</div>\n",
    "</div>"
   ]
  },
  {
   "cell_type": "markdown",
   "metadata": {},
   "source": [
    "# Establishing a Baseline for the EuroSAT dataset\n",
    "\n",
    "Since the EuroSAT dataset has 10 classes, the random baseline is `10%`. However, a better baseline can be established using non-deep-learning techniques. In this notebook, a baseline is established using shallow single-layer dense network. This shallow network is akin to logistic regression.\n",
    "\n",
    "To establish this baseline, each image is subdivided into 4 squares of 32x32px each. The Red, Green, and Blue channels are averaged separately for each square. These values, (`3 channels * 4 squares = 12`) are passed into a single-layer fully-connected network.\n",
    "\n",
    "The resulting accuracy is significantly higher than the random baseline of `10%`. However, the subsequent notebooks show that `Conv2D` networks are extremely powerful on images, making Deep Learning techniques suitable for classifying satellite imagery."
   ]
  },
  {
   "cell_type": "code",
   "execution_count": 1,
   "metadata": {},
   "outputs": [],
   "source": [
    "import numpy as np\n",
    "import tensorflow as tf\n",
    "from core import load_eurosat, compile_and_train_model"
   ]
  },
  {
   "cell_type": "markdown",
   "metadata": {},
   "source": [
    "# Preparing the Dataset"
   ]
  },
  {
   "cell_type": "code",
   "execution_count": 2,
   "metadata": {},
   "outputs": [],
   "source": [
    "# split an image into 4 tiles, and take the average of each band (RGB)\n",
    "def process_image(image):\n",
    "  tile_size = 32\n",
    "  tiles = []\n",
    "\n",
    "  for x in range(0, 64, tile_size):\n",
    "    for y in range(0, 64, tile_size):\n",
    "      tile = image[x:x+tile_size, y:y+tile_size]\n",
    "      results = []\n",
    "\n",
    "      for band in np.split(tile, 3, axis=2):\n",
    "        results.append(np.average(band))\n",
    "\n",
    "      tiles.append(np.array(results))\n",
    "\n",
    "  return np.concatenate(tiles)"
   ]
  },
  {
   "cell_type": "code",
   "execution_count": 3,
   "metadata": {},
   "outputs": [],
   "source": [
    "# create a dataset of processed images\n",
    "def create_dataset(ds):\n",
    "  ds_features = []\n",
    "  ds_labels = []\n",
    "\n",
    "  for image, label in ds.unbatch().as_numpy_iterator():\n",
    "    features = process_image(image)\n",
    "    ds_features.append(features)\n",
    "    ds_labels.append(label)\n",
    "\n",
    "  f = tf.data.Dataset.from_tensor_slices(ds_features)\n",
    "  l = tf.data.Dataset.from_tensor_slices(ds_labels)\n",
    "\n",
    "  dataset = tf.data.Dataset.zip((f, l))\n",
    "  dataset = dataset.batch(64).prefetch(tf.data.AUTOTUNE)\n",
    "\n",
    "  return dataset"
   ]
  },
  {
   "cell_type": "code",
   "execution_count": 5,
   "metadata": {},
   "outputs": [
    {
     "name": "stdout",
     "output_type": "stream",
     "text": [
      "Found 21600 files belonging to 10 classes.\n",
      "Found 2700 files belonging to 10 classes.\n",
      "Found 2700 files belonging to 10 classes.\n"
     ]
    }
   ],
   "source": [
    "(train, val, _) = load_eurosat()\n",
    "train = create_dataset(train)\n",
    "val = create_dataset(val)\n",
    "dataset = (train, val, None)"
   ]
  },
  {
   "cell_type": "code",
   "execution_count": 6,
   "metadata": {},
   "outputs": [
    {
     "data": {
      "text/plain": [
       "(12,)"
      ]
     },
     "execution_count": 6,
     "metadata": {},
     "output_type": "execute_result"
    }
   ],
   "source": [
    "# Shape of the Features Array\n",
    "train.unbatch().take(1).as_numpy_iterator().next()[0].shape"
   ]
  },
  {
   "cell_type": "code",
   "execution_count": 7,
   "metadata": {},
   "outputs": [
    {
     "name": "stdout",
     "output_type": "stream",
     "text": [
      "Model: \"model\"\n",
      "_________________________________________________________________\n",
      " Layer (type)                Output Shape              Param #   \n",
      "=================================================================\n",
      " input_1 (InputLayer)        [(None, 12)]              0         \n",
      "                                                                 \n",
      " dense (Dense)               (None, 10)                130       \n",
      "                                                                 \n",
      "=================================================================\n",
      "Total params: 130\n",
      "Trainable params: 130\n",
      "Non-trainable params: 0\n",
      "_________________________________________________________________\n",
      "Epoch 1/30\n",
      "338/338 [==============================] - 2s 5ms/step - loss: 38.8243 - accuracy: 0.0771 - val_loss: 14.9014 - val_accuracy: 0.1044\n",
      "Epoch 2/30\n",
      "338/338 [==============================] - 2s 5ms/step - loss: 10.8191 - accuracy: 0.1423 - val_loss: 8.7371 - val_accuracy: 0.1863\n",
      "Epoch 3/30\n",
      "338/338 [==============================] - 2s 5ms/step - loss: 7.5321 - accuracy: 0.1933 - val_loss: 6.7770 - val_accuracy: 0.2322\n",
      "Epoch 4/30\n",
      "338/338 [==============================] - 2s 5ms/step - loss: 5.8884 - accuracy: 0.2190 - val_loss: 5.4351 - val_accuracy: 0.2548\n",
      "Epoch 5/30\n",
      "338/338 [==============================] - 2s 5ms/step - loss: 4.7414 - accuracy: 0.2415 - val_loss: 4.4578 - val_accuracy: 0.2693\n",
      "Epoch 6/30\n",
      "338/338 [==============================] - 2s 5ms/step - loss: 3.9395 - accuracy: 0.2597 - val_loss: 3.7623 - val_accuracy: 0.2796\n",
      "Epoch 7/30\n",
      "338/338 [==============================] - 2s 5ms/step - loss: 3.3989 - accuracy: 0.2709 - val_loss: 3.3296 - val_accuracy: 0.2804\n",
      "Epoch 8/30\n",
      "338/338 [==============================] - 2s 5ms/step - loss: 3.0473 - accuracy: 0.2790 - val_loss: 3.0279 - val_accuracy: 0.2796\n",
      "Epoch 9/30\n",
      "338/338 [==============================] - 2s 5ms/step - loss: 2.8227 - accuracy: 0.2836 - val_loss: 2.8046 - val_accuracy: 0.2807\n",
      "Epoch 10/30\n",
      "338/338 [==============================] - 2s 5ms/step - loss: 2.6826 - accuracy: 0.2898 - val_loss: 2.6612 - val_accuracy: 0.2885\n",
      "Epoch 11/30\n",
      "338/338 [==============================] - 2s 5ms/step - loss: 2.5921 - accuracy: 0.2946 - val_loss: 2.5671 - val_accuracy: 0.2874\n",
      "Epoch 12/30\n",
      "338/338 [==============================] - 2s 5ms/step - loss: 2.5285 - accuracy: 0.2956 - val_loss: 2.4980 - val_accuracy: 0.2885\n",
      "Epoch 13/30\n",
      "338/338 [==============================] - 2s 5ms/step - loss: 2.4789 - accuracy: 0.2980 - val_loss: 2.4440 - val_accuracy: 0.2900\n",
      "Epoch 14/30\n",
      "338/338 [==============================] - 2s 5ms/step - loss: 2.4373 - accuracy: 0.2994 - val_loss: 2.3996 - val_accuracy: 0.2911\n",
      "Epoch 15/30\n",
      "338/338 [==============================] - 2s 5ms/step - loss: 2.4010 - accuracy: 0.3006 - val_loss: 2.3616 - val_accuracy: 0.2933\n",
      "Epoch 16/30\n",
      "338/338 [==============================] - 2s 5ms/step - loss: 2.3687 - accuracy: 0.3012 - val_loss: 2.3281 - val_accuracy: 0.2941\n",
      "Epoch 17/30\n",
      "338/338 [==============================] - 2s 5ms/step - loss: 2.3396 - accuracy: 0.3029 - val_loss: 2.2980 - val_accuracy: 0.2978\n",
      "Epoch 18/30\n",
      "338/338 [==============================] - 2s 5ms/step - loss: 2.3132 - accuracy: 0.3040 - val_loss: 2.2707 - val_accuracy: 0.2981\n",
      "Epoch 19/30\n",
      "338/338 [==============================] - 2s 5ms/step - loss: 2.2891 - accuracy: 0.3044 - val_loss: 2.2456 - val_accuracy: 0.2981\n",
      "Epoch 20/30\n",
      "338/338 [==============================] - 2s 5ms/step - loss: 2.2669 - accuracy: 0.3061 - val_loss: 2.2225 - val_accuracy: 0.2989\n",
      "Epoch 21/30\n",
      "338/338 [==============================] - 2s 5ms/step - loss: 2.2464 - accuracy: 0.3071 - val_loss: 2.2010 - val_accuracy: 0.3011\n",
      "Epoch 22/30\n",
      "338/338 [==============================] - 2s 5ms/step - loss: 2.2275 - accuracy: 0.3076 - val_loss: 2.1809 - val_accuracy: 0.3019\n",
      "Epoch 23/30\n",
      "338/338 [==============================] - 2s 5ms/step - loss: 2.2098 - accuracy: 0.3089 - val_loss: 2.1620 - val_accuracy: 0.3007\n",
      "Epoch 24/30\n",
      "338/338 [==============================] - 2s 5ms/step - loss: 2.1934 - accuracy: 0.3093 - val_loss: 2.1443 - val_accuracy: 0.3011\n",
      "Epoch 25/30\n",
      "338/338 [==============================] - 2s 5ms/step - loss: 2.1779 - accuracy: 0.3102 - val_loss: 2.1275 - val_accuracy: 0.3011\n",
      "Epoch 26/30\n",
      "338/338 [==============================] - 2s 5ms/step - loss: 2.1633 - accuracy: 0.3109 - val_loss: 2.1115 - val_accuracy: 0.3033\n",
      "Epoch 27/30\n",
      "338/338 [==============================] - 2s 5ms/step - loss: 2.1495 - accuracy: 0.3115 - val_loss: 2.0963 - val_accuracy: 0.3044\n",
      "Epoch 28/30\n",
      "338/338 [==============================] - 2s 5ms/step - loss: 2.1365 - accuracy: 0.3119 - val_loss: 2.0818 - val_accuracy: 0.3063\n",
      "Epoch 29/30\n",
      "338/338 [==============================] - 2s 5ms/step - loss: 2.1242 - accuracy: 0.3129 - val_loss: 2.0678 - val_accuracy: 0.3081\n",
      "Epoch 30/30\n",
      "338/338 [==============================] - 2s 5ms/step - loss: 2.1124 - accuracy: 0.3133 - val_loss: 2.0544 - val_accuracy: 0.3085\n"
     ]
    },
    {
     "data": {
      "image/png": "[encoded data removed]",
      "text/plain": [
       "<Figure size 432x288 with 1 Axes>"
      ]
     },
     "metadata": {
      "needs_background": "light"
     },
     "output_type": "display_data"
    },
    {
     "data": {
      "image/png": "[encoded data removed]",
      "text/plain": [
       "<Figure size 432x288 with 1 Axes>"
      ]
     },
     "metadata": {
      "needs_background": "light"
     },
     "output_type": "display_data"
    },
    {
     "name": "stdout",
     "output_type": "stream",
     "text": [
      "43/43 [==============================] - 0s 4ms/step - loss: 2.0544 - accuracy: 0.3085\n",
      "\n",
      "Trained for 30 epochs in 0m52s.\n",
      "Highest Validation Accuracy: 30.85%\n"
     ]
    }
   ],
   "source": [
    "# Single-Layer Fully-Connected Model\n",
    "inputs = tf.keras.Input(shape=(12))\n",
    "x = tf.keras.layers.Dense(10, activation='softmax')(inputs)\n",
    "model = tf.keras.Model(inputs, x)\n",
    "model.summary()\n",
    "\n",
    "# Train the model for 30 epochs\n",
    "compile_and_train_model(model, 'baseline.keras', dataset, epochs=30, early_stopping=False)"
   ]
  },
  {
   "cell_type": "markdown",
   "metadata": {},
   "source": [
    "# Results\n",
    "\n",
    "The model above achieves an accuracy of `30.85%`. This shows that it is possible to do better than the random baseline of `10%`, however other techniques are required to classify the images with much higher accuracy.\n",
    "\n",
    "----"
   ]
  }
 ],
 "metadata": {
  "kernelspec": {
   "display_name": "Python 3.9.13 ('base')",
   "language": "python",
   "name": "python3"
  },
  "language_info": {
   "codemirror_mode": {
    "name": "ipython",
    "version": 3
   },
   "file_extension": ".py",
   "mimetype": "text/x-python",
   "name": "python",
   "nbconvert_exporter": "python",
   "pygments_lexer": "ipython3",
   "version": "3.9.13"
  },
  "orig_nbformat": 4,
  "vscode": {
   "interpreter": {
    "hash": "c6e4e9f98eb68ad3b7c296f83d20e6de614cb42e90992a65aa266555a3137d0d"
   }
  }
 },
 "nbformat": 4,
 "nbformat_minor": 2
}
